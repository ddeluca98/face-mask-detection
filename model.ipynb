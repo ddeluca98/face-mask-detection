{
 "cells": [
  {
   "cell_type": "code",
   "execution_count": 1,
   "metadata": {},
   "outputs": [],
   "source": [
    "from tensorflow.keras.layers import Input, Conv2D, ReLU, BatchNormalization, Cropping2D, \\\n",
    "                                    Add, MaxPooling2D, Flatten, Dense, Activation\n",
    "from keras.initializers import glorot_uniform\n",
    "from keras.models import Model\n",
    "from keras.utils.vis_utils import plot_model"
   ]
  },
  {
   "cell_type": "code",
   "execution_count": 2,
   "metadata": {},
   "outputs": [],
   "source": [
    "def residual_block(x, kernelsize, filters, downsample):\n",
    "    lyr = Conv2D(filters, kernelsize, strides=1, padding='same')(x)\n",
    "    lyr = ReLU()(lyr)\n",
    "  #  lyr = BatchNormalization()(lyr)\n",
    "    \n",
    "    if downsample:\n",
    "        lyr = Conv2D(filters, 1,strides=2 , padding='same')(lyr)\n",
    "        #x = shortcut(x, lyr)\n",
    "        shortcut = Conv2D(filters, kernel_size=(1, 1), strides=2, padding='same')(x)\n",
    "       # shortcut = BatchNormalization()(shortcut)\n",
    "\n",
    "    else:\n",
    "        lyr = Conv2D(filters, kernelsize,  strides=1, padding='same')(lyr)\n",
    "        shortcut = x\n",
    "    out = Add()([shortcut,lyr])\n",
    "    out = ReLU()(out)\n",
    "  #  out = BatchNormalization()(out)\n",
    "    return out"
   ]
  },
  {
   "cell_type": "code",
   "execution_count": 3,
   "metadata": {},
   "outputs": [
    {
     "name": "stdout",
     "output_type": "stream",
     "text": [
      "Model: \"ResNet\"\n",
      "__________________________________________________________________________________________________\n",
      " Layer (type)                   Output Shape         Param #     Connected to                     \n",
      "==================================================================================================\n",
      " input_1 (InputLayer)           [(None, 32, 32, 3)]  0           []                               \n",
      "                                                                                                  \n",
      " conv2d (Conv2D)                (None, 26, 26, 16)   2368        ['input_1[0][0]']                \n",
      "                                                                                                  \n",
      " activation (Activation)        (None, 26, 26, 16)   0           ['conv2d[0][0]']                 \n",
      "                                                                                                  \n",
      " max_pooling2d (MaxPooling2D)   (None, 13, 13, 16)   0           ['activation[0][0]']             \n",
      "                                                                                                  \n",
      " conv2d_1 (Conv2D)              (None, 13, 13, 16)   2320        ['max_pooling2d[0][0]']          \n",
      "                                                                                                  \n",
      " re_lu (ReLU)                   (None, 13, 13, 16)   0           ['conv2d_1[0][0]']               \n",
      "                                                                                                  \n",
      " conv2d_3 (Conv2D)              (None, 7, 7, 16)     272         ['max_pooling2d[0][0]']          \n",
      "                                                                                                  \n",
      " conv2d_2 (Conv2D)              (None, 7, 7, 16)     272         ['re_lu[0][0]']                  \n",
      "                                                                                                  \n",
      " add (Add)                      (None, 7, 7, 16)     0           ['conv2d_3[0][0]',               \n",
      "                                                                  'conv2d_2[0][0]']               \n",
      "                                                                                                  \n",
      " re_lu_1 (ReLU)                 (None, 7, 7, 16)     0           ['add[0][0]']                    \n",
      "                                                                                                  \n",
      " conv2d_4 (Conv2D)              (None, 7, 7, 16)     2320        ['re_lu_1[0][0]']                \n",
      "                                                                                                  \n",
      " re_lu_2 (ReLU)                 (None, 7, 7, 16)     0           ['conv2d_4[0][0]']               \n",
      "                                                                                                  \n",
      " conv2d_6 (Conv2D)              (None, 4, 4, 16)     272         ['re_lu_1[0][0]']                \n",
      "                                                                                                  \n",
      " conv2d_5 (Conv2D)              (None, 4, 4, 16)     272         ['re_lu_2[0][0]']                \n",
      "                                                                                                  \n",
      " add_1 (Add)                    (None, 4, 4, 16)     0           ['conv2d_6[0][0]',               \n",
      "                                                                  'conv2d_5[0][0]']               \n",
      "                                                                                                  \n",
      " re_lu_3 (ReLU)                 (None, 4, 4, 16)     0           ['add_1[0][0]']                  \n",
      "                                                                                                  \n",
      " conv2d_7 (Conv2D)              (None, 4, 4, 16)     2320        ['re_lu_3[0][0]']                \n",
      "                                                                                                  \n",
      " re_lu_4 (ReLU)                 (None, 4, 4, 16)     0           ['conv2d_7[0][0]']               \n",
      "                                                                                                  \n",
      " conv2d_9 (Conv2D)              (None, 2, 2, 16)     272         ['re_lu_3[0][0]']                \n",
      "                                                                                                  \n",
      " conv2d_8 (Conv2D)              (None, 2, 2, 16)     272         ['re_lu_4[0][0]']                \n",
      "                                                                                                  \n",
      " add_2 (Add)                    (None, 2, 2, 16)     0           ['conv2d_9[0][0]',               \n",
      "                                                                  'conv2d_8[0][0]']               \n",
      "                                                                                                  \n",
      " re_lu_5 (ReLU)                 (None, 2, 2, 16)     0           ['add_2[0][0]']                  \n",
      "                                                                                                  \n",
      " conv2d_10 (Conv2D)             (None, 2, 2, 16)     2320        ['re_lu_5[0][0]']                \n",
      "                                                                                                  \n",
      " re_lu_6 (ReLU)                 (None, 2, 2, 16)     0           ['conv2d_10[0][0]']              \n",
      "                                                                                                  \n",
      " conv2d_12 (Conv2D)             (None, 1, 1, 16)     272         ['re_lu_5[0][0]']                \n",
      "                                                                                                  \n",
      " conv2d_11 (Conv2D)             (None, 1, 1, 16)     272         ['re_lu_6[0][0]']                \n",
      "                                                                                                  \n",
      " add_3 (Add)                    (None, 1, 1, 16)     0           ['conv2d_12[0][0]',              \n",
      "                                                                  'conv2d_11[0][0]']              \n",
      "                                                                                                  \n",
      " re_lu_7 (ReLU)                 (None, 1, 1, 16)     0           ['add_3[0][0]']                  \n",
      "                                                                                                  \n",
      " flatten (Flatten)              (None, 16)           0           ['re_lu_7[0][0]']                \n",
      "                                                                                                  \n",
      " dense (Dense)                  (None, 16)           272         ['flatten[0][0]']                \n",
      "                                                                                                  \n",
      " dense_1 (Dense)                (None, 7)            119         ['dense[0][0]']                  \n",
      "                                                                                                  \n",
      " dense_2 (Dense)                (None, 3)            24          ['dense_1[0][0]']                \n",
      "                                                                                                  \n",
      "==================================================================================================\n",
      "Total params: 14,239\n",
      "Trainable params: 14,239\n",
      "Non-trainable params: 0\n",
      "__________________________________________________________________________________________________\n"
     ]
    }
   ],
   "source": [
    "### ResNet Conv. Nural Network\n",
    "# Define the input as a tensor with shape input_shape\n",
    "filters = 16\n",
    "width = 32\n",
    "height = 32\n",
    "ch = 3\n",
    "X_input = Input(shape=(width, height, ch))\n",
    "X = X_input\n",
    " \n",
    "# Stage 1\n",
    "X = Conv2D(filters, (7, 7))(X)#, kernel_initializer = glorot_uniform(seed=0))(X)\n",
    "X = Activation('relu')(X)\n",
    "X = MaxPooling2D((2, 2), strides=(2, 2))(X) \n",
    "##### Residual block 1 #####\n",
    "X = residual_block(X, 3, filters, 1)\n",
    "##### Residual block 2 #####\n",
    "X = residual_block(X, 3, filters, 1)\n",
    "##### Residual block 3 #####\n",
    "#X = residual_block(X, 5, filters, 0)\n",
    "##### Residual block 4 #####\n",
    "X = residual_block(X, 3, filters, 1)\n",
    "##### Residual block 5 #####\n",
    "X = residual_block(X, 3, filters, 1)\n",
    "\n",
    "\n",
    "\n",
    "\n",
    "X_output = Flatten()(X)\n",
    "X_output = Dense(16, activation='relu')(X_output)\n",
    "X_output = Dense(7, activation='relu')(X_output)\n",
    "X_output = Dense(3, activation='softmax')(X_output)\n",
    "    \n",
    "model = Model(X_input, X_output,name = 'ResNet')\n",
    "\n",
    "model.compile(optimizer='adam',   loss='categorical_crossentropy',  metrics=['accuracy'] )\n",
    "             # loss='sparse_categorical_crossentropy'\n",
    "\n",
    "model.summary()"
   ]
  },
  {
   "cell_type": "code",
   "execution_count": 4,
   "metadata": {},
   "outputs": [
    {
     "name": "stdout",
     "output_type": "stream",
     "text": [
      "You must install pydot (`pip install pydot`) and install graphviz (see instructions at https://graphviz.gitlab.io/download/) for plot_model/model_to_dot to work.\n"
     ]
    }
   ],
   "source": [
    "plot_model(model,  show_shapes=True, show_layer_names=True)#to_file='model_plot.png',"
   ]
  },
  {
   "cell_type": "code",
   "execution_count": 5,
   "metadata": {},
   "outputs": [
    {
     "name": "stdout",
     "output_type": "stream",
     "text": [
      "INFO:tensorflow:Assets written to: FaceMask_model\\assets\n"
     ]
    }
   ],
   "source": [
    "# Save Model\n",
    "model.save(\"FaceMask_model\")"
   ]
  },
  {
   "cell_type": "code",
   "execution_count": null,
   "metadata": {},
   "outputs": [],
   "source": []
  }
 ],
 "metadata": {
  "kernelspec": {
   "display_name": "Python 3 (ipykernel)",
   "language": "python",
   "name": "python3"
  },
  "language_info": {
   "codemirror_mode": {
    "name": "ipython",
    "version": 3
   },
   "file_extension": ".py",
   "mimetype": "text/x-python",
   "name": "python",
   "nbconvert_exporter": "python",
   "pygments_lexer": "ipython3",
   "version": "3.9.6"
  }
 },
 "nbformat": 4,
 "nbformat_minor": 4
}
