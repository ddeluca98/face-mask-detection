{
 "cells": [
  {
   "cell_type": "code",
   "execution_count": 1,
   "metadata": {},
   "outputs": [],
   "source": [
    "from tensorflow import keras\n",
    "import pandas as pd\n",
    "import numpy as np\n",
    "from numpy import copy\n",
    "from keras.preprocessing.image import ImageDataGenerator\n",
    "import matplotlib.pyplot as plt\n",
    "from sklearn.model_selection import train_test_split\n",
    "from keras import callbacks"
   ]
  },
  {
   "cell_type": "code",
   "execution_count": 2,
   "metadata": {},
   "outputs": [],
   "source": [
    "model = keras.models.load_model(\"FaceMask_model\")\n",
    "#model.summary()"
   ]
  },
  {
   "cell_type": "code",
   "execution_count": 3,
   "metadata": {},
   "outputs": [],
   "source": [
    "df_train_all = pd.read_csv('df_train.csv')\n",
    "df_test = pd.read_csv('df_test.csv')\n",
    "#y=df_train['label']\n",
    "#X = df_train.drop(['label'], axis=1)\n",
    "df_train, df_valid = train_test_split(df_train_all, test_size=0.15, stratify=df_train_all['label'], random_state=1)"
   ]
  },
  {
   "cell_type": "code",
   "execution_count": 4,
   "metadata": {},
   "outputs": [
    {
     "data": {
      "text/plain": [
       "mask_incorrectly_worn    6135\n",
       "without_mask             5925\n",
       "with_mask                2158\n",
       "Name: label, dtype: int64"
      ]
     },
     "execution_count": 4,
     "metadata": {},
     "output_type": "execute_result"
    }
   ],
   "source": [
    "#Number of images used in the traininng after Augmentation \n",
    "df_train_all['label'].value_counts()"
   ]
  },
  {
   "cell_type": "code",
   "execution_count": 5,
   "metadata": {},
   "outputs": [
    {
     "data": {
      "text/plain": [
       "mask_incorrectly_worn    5215\n",
       "without_mask             5036\n",
       "with_mask                1834\n",
       "Name: label, dtype: int64"
      ]
     },
     "execution_count": 5,
     "metadata": {},
     "output_type": "execute_result"
    }
   ],
   "source": [
    "#Number of images used in the traininng after validation split \n",
    "df_train['label'].value_counts()"
   ]
  },
  {
   "cell_type": "code",
   "execution_count": 6,
   "metadata": {},
   "outputs": [
    {
     "data": {
      "text/plain": [
       "mask_incorrectly_worn    920\n",
       "without_mask             889\n",
       "with_mask                324\n",
       "Name: label, dtype: int64"
      ]
     },
     "execution_count": 6,
     "metadata": {},
     "output_type": "execute_result"
    }
   ],
   "source": [
    "#Number of images used in validation \n",
    "df_valid['label'].value_counts()"
   ]
  },
  {
   "cell_type": "code",
   "execution_count": 7,
   "metadata": {},
   "outputs": [
    {
     "data": {
      "text/plain": [
       "with_mask                719\n",
       "without_mask             152\n",
       "mask_incorrectly_worn     30\n",
       "Name: label, dtype: int64"
      ]
     },
     "execution_count": 7,
     "metadata": {},
     "output_type": "execute_result"
    }
   ],
   "source": [
    "#Test data counts\n",
    "df_test['label'].value_counts()"
   ]
  },
  {
   "cell_type": "code",
   "execution_count": 8,
   "metadata": {
    "scrolled": true
   },
   "outputs": [
    {
     "name": "stdout",
     "output_type": "stream",
     "text": [
      "Found 2310 validated image filenames belonging to 3 classes.\n",
      "Found 403 validated image filenames belonging to 3 classes.\n",
      "Found 901 validated image filenames belonging to 3 classes.\n"
     ]
    },
    {
     "name": "stderr",
     "output_type": "stream",
     "text": [
      "c:\\python39\\lib\\site-packages\\keras_preprocessing\\image\\dataframe_iterator.py:279: UserWarning: Found 9775 invalid image filename(s) in x_col=\"cropped_image_file\". These filename(s) will be ignored.\n",
      "  warnings.warn(\n",
      "c:\\python39\\lib\\site-packages\\keras_preprocessing\\image\\dataframe_iterator.py:279: UserWarning: Found 1730 invalid image filename(s) in x_col=\"cropped_image_file\". These filename(s) will be ignored.\n",
      "  warnings.warn(\n"
     ]
    }
   ],
   "source": [
    "#datagenTrain = ImageDataGenerator(rescale=1./255, validation_split=0.25 )\n",
    "datagen = ImageDataGenerator(rescale=1./255)\n",
    "\n",
    "\n",
    "trainData=datagen.flow_from_dataframe(\n",
    "dataframe=df_train,\n",
    "directory=\"./TrainTestData/\",\n",
    "x_col=\"cropped_image_file\",\n",
    "y_col=\"label\",\n",
    "batch_size=50,\n",
    "seed=42,\n",
    "shuffle=True,\n",
    "class_mode=\"categorical\",\n",
    "target_size=(32,32),\n",
    "interpolation='nearest',\n",
    "subset='training'\n",
    ")\n",
    "\n",
    "validData=datagen.flow_from_dataframe(\n",
    "dataframe=df_valid,\n",
    "directory=\"./TrainTestData/\",\n",
    "x_col=\"cropped_image_file\",\n",
    "y_col=\"label\",\n",
    "batch_size=50,\n",
    "seed=42,\n",
    "shuffle=False,\n",
    "class_mode=\"categorical\",\n",
    "target_size=(32,32),\n",
    "interpolation='nearest',\n",
    "#subset='validation'\n",
    ")\n",
    "\n",
    "testData=datagen.flow_from_dataframe(\n",
    "dataframe=df_test,\n",
    "directory=\"./TrainTestData/\",\n",
    "x_col=\"cropped_image_file\",\n",
    "y_col=\"label\",\n",
    "batch_size=50,\n",
    "seed=42,\n",
    "shuffle=False,\n",
    "#class_mode=\"categorical\",\n",
    "target_size=(32,32),\n",
    "interpolation='nearest')"
   ]
  },
  {
   "cell_type": "code",
   "execution_count": 9,
   "metadata": {},
   "outputs": [],
   "source": [
    "epochs = [20, 30, 50, 70]\n",
    "batch_size = [16, 32, 64, 100]\n",
    "param_grid = dict(epochs=epochs, batch_size=batch_size)"
   ]
  },
  {
   "cell_type": "code",
   "execution_count": 10,
   "metadata": {},
   "outputs": [],
   "source": [
    "earlyStopping = callbacks.EarlyStopping(monitor=\"val_loss\",\n",
    "                                       mode=\"min\", patience=15,\n",
    "                                       restore_best_weights=True)"
   ]
  },
  {
   "cell_type": "code",
   "execution_count": 11,
   "metadata": {},
   "outputs": [
    {
     "name": "stdout",
     "output_type": "stream",
     "text": [
      "Epoch 1/70\n",
      "46/46 [==============================] - 3s 38ms/step - loss: 0.8720 - accuracy: 0.7332 - val_loss: 0.6359 - val_accuracy: 0.8050\n",
      "Epoch 2/70\n",
      "46/46 [==============================] - 1s 32ms/step - loss: 0.5995 - accuracy: 0.7947 - val_loss: 0.5289 - val_accuracy: 0.8050\n",
      "Epoch 3/70\n",
      "46/46 [==============================] - 1s 32ms/step - loss: 0.4739 - accuracy: 0.7947 - val_loss: 0.4037 - val_accuracy: 0.8050\n",
      "Epoch 4/70\n",
      "46/46 [==============================] - 1s 32ms/step - loss: 0.3761 - accuracy: 0.7947 - val_loss: 0.3479 - val_accuracy: 0.8050\n",
      "Epoch 5/70\n",
      "46/46 [==============================] - 1s 32ms/step - loss: 0.3290 - accuracy: 0.8646 - val_loss: 0.3416 - val_accuracy: 0.8575\n",
      "Epoch 6/70\n",
      "46/46 [==============================] - 1s 32ms/step - loss: 0.3213 - accuracy: 0.9049 - val_loss: 0.3110 - val_accuracy: 0.9250\n",
      "Epoch 7/70\n",
      "46/46 [==============================] - 1s 32ms/step - loss: 0.2903 - accuracy: 0.9319 - val_loss: 0.2925 - val_accuracy: 0.9275\n",
      "Epoch 8/70\n",
      "46/46 [==============================] - 1s 32ms/step - loss: 0.2833 - accuracy: 0.9358 - val_loss: 0.2887 - val_accuracy: 0.9275\n",
      "Epoch 9/70\n",
      "46/46 [==============================] - 1s 32ms/step - loss: 0.2781 - accuracy: 0.9381 - val_loss: 0.2709 - val_accuracy: 0.9375\n",
      "Epoch 10/70\n",
      "46/46 [==============================] - 1s 32ms/step - loss: 0.2745 - accuracy: 0.9438 - val_loss: 0.2753 - val_accuracy: 0.9425\n",
      "Epoch 11/70\n",
      "46/46 [==============================] - 1s 32ms/step - loss: 0.2591 - accuracy: 0.9438 - val_loss: 0.2575 - val_accuracy: 0.9375\n",
      "Epoch 12/70\n",
      "46/46 [==============================] - 2s 33ms/step - loss: 0.2489 - accuracy: 0.9469 - val_loss: 0.2661 - val_accuracy: 0.9300\n",
      "Epoch 13/70\n",
      "46/46 [==============================] - 1s 32ms/step - loss: 0.2491 - accuracy: 0.9456 - val_loss: 0.2596 - val_accuracy: 0.9400\n",
      "Epoch 14/70\n",
      "46/46 [==============================] - 2s 33ms/step - loss: 0.2339 - accuracy: 0.9487 - val_loss: 0.2290 - val_accuracy: 0.9400\n",
      "Epoch 15/70\n",
      "46/46 [==============================] - 2s 32ms/step - loss: 0.1761 - accuracy: 0.9491 - val_loss: 0.2141 - val_accuracy: 0.9275\n",
      "Epoch 16/70\n",
      "46/46 [==============================] - 1s 32ms/step - loss: 0.1836 - accuracy: 0.9420 - val_loss: 0.2163 - val_accuracy: 0.9325\n",
      "Epoch 17/70\n",
      "46/46 [==============================] - 1s 32ms/step - loss: 0.1607 - accuracy: 0.9478 - val_loss: 0.2077 - val_accuracy: 0.9300\n",
      "Epoch 18/70\n",
      "46/46 [==============================] - 1s 32ms/step - loss: 0.1502 - accuracy: 0.9522 - val_loss: 0.1856 - val_accuracy: 0.9450\n",
      "Epoch 19/70\n",
      "46/46 [==============================] - 1s 32ms/step - loss: 0.1461 - accuracy: 0.9540 - val_loss: 0.1840 - val_accuracy: 0.9450\n",
      "Epoch 20/70\n",
      "46/46 [==============================] - 1s 32ms/step - loss: 0.1443 - accuracy: 0.9509 - val_loss: 0.1905 - val_accuracy: 0.9350\n",
      "Epoch 21/70\n",
      "46/46 [==============================] - 1s 32ms/step - loss: 0.1346 - accuracy: 0.9558 - val_loss: 0.1975 - val_accuracy: 0.9350\n",
      "Epoch 22/70\n",
      "46/46 [==============================] - 1s 32ms/step - loss: 0.1368 - accuracy: 0.9518 - val_loss: 0.2024 - val_accuracy: 0.9450\n",
      "Epoch 23/70\n",
      "46/46 [==============================] - 2s 32ms/step - loss: 0.1280 - accuracy: 0.9593 - val_loss: 0.1938 - val_accuracy: 0.9400\n",
      "Epoch 24/70\n",
      "46/46 [==============================] - 1s 32ms/step - loss: 0.1212 - accuracy: 0.9593 - val_loss: 0.2033 - val_accuracy: 0.9375\n",
      "Epoch 25/70\n",
      "46/46 [==============================] - 1s 32ms/step - loss: 0.1139 - accuracy: 0.9642 - val_loss: 0.1891 - val_accuracy: 0.9425\n",
      "Epoch 26/70\n",
      "46/46 [==============================] - 1s 32ms/step - loss: 0.1059 - accuracy: 0.9642 - val_loss: 0.1747 - val_accuracy: 0.9475\n",
      "Epoch 27/70\n",
      "46/46 [==============================] - 1s 32ms/step - loss: 0.0985 - accuracy: 0.9655 - val_loss: 0.1883 - val_accuracy: 0.9425\n",
      "Epoch 28/70\n",
      "46/46 [==============================] - 1s 32ms/step - loss: 0.0998 - accuracy: 0.9637 - val_loss: 0.1914 - val_accuracy: 0.9400\n",
      "Epoch 29/70\n",
      "46/46 [==============================] - 1s 32ms/step - loss: 0.1100 - accuracy: 0.9646 - val_loss: 0.1970 - val_accuracy: 0.9450\n",
      "Epoch 30/70\n",
      "46/46 [==============================] - 1s 32ms/step - loss: 0.0960 - accuracy: 0.9673 - val_loss: 0.1902 - val_accuracy: 0.9450\n",
      "Epoch 31/70\n",
      "46/46 [==============================] - 1s 32ms/step - loss: 0.1104 - accuracy: 0.9664 - val_loss: 0.2153 - val_accuracy: 0.9275\n",
      "Epoch 32/70\n",
      "46/46 [==============================] - 1s 32ms/step - loss: 0.1036 - accuracy: 0.9611 - val_loss: 0.1998 - val_accuracy: 0.9475\n",
      "Epoch 33/70\n",
      "46/46 [==============================] - 2s 33ms/step - loss: 0.0829 - accuracy: 0.9735 - val_loss: 0.2120 - val_accuracy: 0.9450\n",
      "Epoch 34/70\n",
      "46/46 [==============================] - 1s 32ms/step - loss: 0.0780 - accuracy: 0.9743 - val_loss: 0.1959 - val_accuracy: 0.9525\n",
      "Epoch 35/70\n",
      "46/46 [==============================] - 1s 32ms/step - loss: 0.0818 - accuracy: 0.9695 - val_loss: 0.1851 - val_accuracy: 0.9500\n",
      "Epoch 36/70\n",
      "46/46 [==============================] - 1s 32ms/step - loss: 0.0813 - accuracy: 0.9721 - val_loss: 0.1948 - val_accuracy: 0.9325\n",
      "Epoch 37/70\n",
      "46/46 [==============================] - 2s 33ms/step - loss: 0.0696 - accuracy: 0.9761 - val_loss: 0.1914 - val_accuracy: 0.9475\n",
      "Epoch 38/70\n",
      "46/46 [==============================] - 1s 32ms/step - loss: 0.0696 - accuracy: 0.9779 - val_loss: 0.2070 - val_accuracy: 0.9450\n",
      "Epoch 39/70\n",
      "46/46 [==============================] - 1s 32ms/step - loss: 0.0675 - accuracy: 0.9748 - val_loss: 0.2192 - val_accuracy: 0.9375\n",
      "Epoch 40/70\n",
      "46/46 [==============================] - 1s 32ms/step - loss: 0.0616 - accuracy: 0.9783 - val_loss: 0.1941 - val_accuracy: 0.9450\n",
      "Epoch 41/70\n",
      "46/46 [==============================] - 1s 32ms/step - loss: 0.0475 - accuracy: 0.9845 - val_loss: 0.2071 - val_accuracy: 0.9500\n"
     ]
    }
   ],
   "source": [
    "history = model.fit(\n",
    "        trainData,\n",
    "        steps_per_epoch=trainData.n//trainData.batch_size,\n",
    "        validation_data=validData,\n",
    "        validation_steps=validData.n//validData.batch_size,\n",
    "        epochs=70,\n",
    "        callbacks=[earlyStopping]\n",
    "        )\n",
    "model.save_weights('try1.h5')  # "
   ]
  },
  {
   "cell_type": "code",
   "execution_count": 12,
   "metadata": {},
   "outputs": [
    {
     "data": {
      "image/png": "[encoded data removed]",
      "text/plain": [
       "<Figure size 432x288 with 1 Axes>"
      ]
     },
     "metadata": {
      "needs_background": "light"
     },
     "output_type": "display_data"
    },
    {
     "data": {
      "image/png": "[encoded data removed]",
      "text/plain": [
       "<Figure size 432x288 with 1 Axes>"
      ]
     },
     "metadata": {
      "needs_background": "light"
     },
     "output_type": "display_data"
    }
   ],
   "source": [
    "# evaluate the model\n",
    "#_, train_acc = model.evaluate(Xtrain, ytrain, verbose=0)\n",
    "#_, test_acc = model.evaluate(Xtest, ytest, verbose=0)\n",
    "#print('Train: %.3f, Test: %.3f' % (train_acc, test_acc))\n",
    "# plot loss during training\n",
    "#plt.subplot(121)\n",
    "plt.title('Loss')\n",
    "plt.plot(history.history['loss'], label='train')\n",
    "plt.plot(history.history['val_loss'], label='Validation')\n",
    "plt.ylim(0.0, 1.1)\n",
    "plt.legend()\n",
    "plt.show()\n",
    "# plot accuracy during training\n",
    "#plt.subplot(211)\n",
    "plt.title('Accuracy')\n",
    "plt.plot(history.history['accuracy'], label='train')\n",
    "plt.plot(history.history['val_accuracy'], label='Validation')\n",
    "#plt.ylim(0.0, 1.1)\n",
    "plt.legend()\n",
    "plt.show()"
   ]
  },
  {
   "cell_type": "code",
   "execution_count": 13,
   "metadata": {},
   "outputs": [
    {
     "data": {
      "text/plain": [
       "{'mask_incorrectly_worn': 0, 'with_mask': 1, 'without_mask': 2}"
      ]
     },
     "execution_count": 13,
     "metadata": {},
     "output_type": "execute_result"
    }
   ],
   "source": [
    "#Get labels map\n",
    "label_map = (trainData.class_indices)\n",
    "label_map"
   ]
  },
  {
   "cell_type": "code",
   "execution_count": 14,
   "metadata": {},
   "outputs": [],
   "source": [
    "yhat_classes = model.predict(testData, verbose=0) #Gives prediction as propability\n",
    "ypred = np.argmax(yhat_classes,axis=1) #Get labels from brobability\n",
    "y_test_label = df_test['label'] #Read y_test\n",
    "#Replace label names in y_test with the same labeling used by the model \n",
    "y_test = np.empty(len(y_test_label))\n",
    "for k, v in label_map.items(): y_test[y_test_label==k] = v"
   ]
  },
  {
   "cell_type": "code",
   "execution_count": 15,
   "metadata": {},
   "outputs": [
    {
     "data": {
      "text/plain": [
       "0.9378468368479467"
      ]
     },
     "execution_count": 15,
     "metadata": {},
     "output_type": "execute_result"
    }
   ],
   "source": [
    "from sklearn.metrics import accuracy_score\n",
    "accuracy_score(y_test, ypred)"
   ]
  },
  {
   "cell_type": "code",
   "execution_count": 16,
   "metadata": {},
   "outputs": [
    {
     "name": "stdout",
     "output_type": "stream",
     "text": [
      "                       precision    recall  f1-score   support\n",
      "\n",
      "mask_incorrectly_worn       0.53      0.30      0.38        30\n",
      "            with_mask       0.97      0.97      0.97       719\n",
      "         without_mask       0.84      0.91      0.88       152\n",
      "\n",
      "             accuracy                           0.94       901\n",
      "            macro avg       0.78      0.73      0.74       901\n",
      "         weighted avg       0.93      0.94      0.93       901\n",
      "\n"
     ]
    }
   ],
   "source": [
    "from sklearn.metrics import classification_report\n",
    "print(classification_report(y_test, ypred,target_names = label_map.keys() ))"
   ]
  },
  {
   "cell_type": "code",
   "execution_count": 17,
   "metadata": {},
   "outputs": [
    {
     "name": "stdout",
     "output_type": "stream",
     "text": [
      "19/19 [==============================] - 0s 20ms/step - loss: 0.1722 - accuracy: 0.9378\n",
      "Test loss: 0.17218343913555145\n",
      "Test accuracy: 0.937846839427948\n"
     ]
    }
   ],
   "source": [
    "score = model.evaluate(testData, verbose=1)\n",
    "print(\"Test loss:\", score[0])\n",
    "print(\"Test accuracy:\", score[1])"
   ]
  },
  {
   "cell_type": "code",
   "execution_count": null,
   "metadata": {},
   "outputs": [],
   "source": []
  }
 ],
 "metadata": {
  "kernelspec": {
   "display_name": "Python 3 (ipykernel)",
   "language": "python",
   "name": "python3"
  },
  "language_info": {
   "codemirror_mode": {
    "name": "ipython",
    "version": 3
   },
   "file_extension": ".py",
   "mimetype": "text/x-python",
   "name": "python",
   "nbconvert_exporter": "python",
   "pygments_lexer": "ipython3",
   "version": "3.9.6"
  }
 },
 "nbformat": 4,
 "nbformat_minor": 4
}
