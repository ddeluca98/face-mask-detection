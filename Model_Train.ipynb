{
 "cells": [
  {
   "cell_type": "code",
   "execution_count": 1,
   "metadata": {},
   "outputs": [],
   "source": [
    "from tensorflow import keras\n",
    "import pandas as pd\n",
    "import numpy as np\n",
    "from numpy import copy\n",
    "from keras.preprocessing.image import ImageDataGenerator\n",
    "import matplotlib.pyplot as plt\n",
    "from sklearn.model_selection import train_test_split"
   ]
  },
  {
   "cell_type": "code",
   "execution_count": 2,
   "metadata": {},
   "outputs": [],
   "source": [
    "model = keras.models.load_model(\"FaceMask_model\")\n",
    "#model.summary()"
   ]
  },
  {
   "cell_type": "code",
   "execution_count": 3,
   "metadata": {},
   "outputs": [],
   "source": [
    "df_train_all = pd.read_csv('df_train.csv')\n",
    "df_test = pd.read_csv('df_test.csv')\n",
    "#y=df_train['label']\n",
    "#X = df_train.drop(['label'], axis=1)\n",
    "df_train, df_valid = train_test_split(df_train_all, test_size=0.15, stratify=df_train_all['label'], random_state=1)"
   ]
  },
  {
   "cell_type": "code",
   "execution_count": 4,
   "metadata": {},
   "outputs": [
    {
     "data": {
      "text/plain": [
       "without_mask             2280\n",
       "with_mask                2158\n",
       "mask_incorrectly_worn    2111\n",
       "Name: label, dtype: int64"
      ]
     },
     "execution_count": 4,
     "metadata": {},
     "output_type": "execute_result"
    }
   ],
   "source": [
    "#Number of images used in the traininng after Augmentation \n",
    "df_train_all['label'].value_counts()"
   ]
  },
  {
   "cell_type": "code",
   "execution_count": 5,
   "metadata": {},
   "outputs": [
    {
     "data": {
      "text/plain": [
       "without_mask             1938\n",
       "with_mask                1834\n",
       "mask_incorrectly_worn    1794\n",
       "Name: label, dtype: int64"
      ]
     },
     "execution_count": 5,
     "metadata": {},
     "output_type": "execute_result"
    }
   ],
   "source": [
    "#Number of images used in the traininng after validation split \n",
    "df_train['label'].value_counts()"
   ]
  },
  {
   "cell_type": "code",
   "execution_count": 6,
   "metadata": {},
   "outputs": [
    {
     "data": {
      "text/plain": [
       "without_mask             342\n",
       "with_mask                324\n",
       "mask_incorrectly_worn    317\n",
       "Name: label, dtype: int64"
      ]
     },
     "execution_count": 6,
     "metadata": {},
     "output_type": "execute_result"
    }
   ],
   "source": [
    "#Number of images used in validation \n",
    "df_valid['label'].value_counts()"
   ]
  },
  {
   "cell_type": "code",
   "execution_count": 7,
   "metadata": {},
   "outputs": [
    {
     "data": {
      "text/plain": [
       "with_mask                719\n",
       "without_mask             152\n",
       "mask_incorrectly_worn     30\n",
       "Name: label, dtype: int64"
      ]
     },
     "execution_count": 7,
     "metadata": {},
     "output_type": "execute_result"
    }
   ],
   "source": [
    "#Test data counts\n",
    "df_test['label'].value_counts()"
   ]
  },
  {
   "cell_type": "code",
   "execution_count": 8,
   "metadata": {},
   "outputs": [
    {
     "name": "stdout",
     "output_type": "stream",
     "text": [
      "Found 5566 validated image filenames belonging to 3 classes.\n",
      "Found 983 validated image filenames belonging to 3 classes.\n",
      "Found 901 validated image filenames belonging to 3 classes.\n"
     ]
    }
   ],
   "source": [
    "#datagenTrain = ImageDataGenerator(rescale=1./255, validation_split=0.25 )\n",
    "datagen = ImageDataGenerator(rescale=1./255)\n",
    "\n",
    "\n",
    "trainData=datagen.flow_from_dataframe(\n",
    "dataframe=df_train,\n",
    "directory=\"./TrainTestData/\",\n",
    "x_col=\"cropped_image_file\",\n",
    "y_col=\"label\",\n",
    "batch_size=50,\n",
    "seed=42,\n",
    "shuffle=True,\n",
    "class_mode=\"categorical\",\n",
    "target_size=(32,32),\n",
    "interpolation='nearest',\n",
    "subset='training'\n",
    ")\n",
    "\n",
    "validData=datagen.flow_from_dataframe(\n",
    "dataframe=df_valid,\n",
    "directory=\"./TrainTestData/\",\n",
    "x_col=\"cropped_image_file\",\n",
    "y_col=\"label\",\n",
    "batch_size=50,\n",
    "seed=42,\n",
    "shuffle=False,\n",
    "class_mode=\"categorical\",\n",
    "target_size=(32,32),\n",
    "interpolation='nearest',\n",
    "#subset='validation'\n",
    ")\n",
    "\n",
    "testData=datagen.flow_from_dataframe(\n",
    "dataframe=df_test,\n",
    "directory=\"./TrainTestData/\",\n",
    "x_col=\"cropped_image_file\",\n",
    "y_col=\"label\",\n",
    "batch_size=50,\n",
    "seed=42,\n",
    "shuffle=False,\n",
    "#class_mode=\"categorical\",\n",
    "target_size=(32,32),\n",
    "interpolation='nearest')"
   ]
  },
  {
   "cell_type": "code",
   "execution_count": 9,
   "metadata": {},
   "outputs": [
    {
     "name": "stdout",
     "output_type": "stream",
     "text": [
      "Epoch 1/50\n",
      "111/111 [==============================] - 13s 98ms/step - loss: 0.8823 - accuracy: 0.5419 - val_loss: 0.6452 - val_accuracy: 0.7158\n",
      "Epoch 2/50\n",
      "111/111 [==============================] - 7s 60ms/step - loss: 0.5588 - accuracy: 0.7690 - val_loss: 0.5473 - val_accuracy: 0.7874\n",
      "Epoch 3/50\n",
      "111/111 [==============================] - 7s 59ms/step - loss: 0.5045 - accuracy: 0.7971 - val_loss: 0.5547 - val_accuracy: 0.7737\n",
      "Epoch 4/50\n",
      "111/111 [==============================] - 7s 62ms/step - loss: 0.4752 - accuracy: 0.8113 - val_loss: 0.4376 - val_accuracy: 0.8295\n",
      "Epoch 5/50\n",
      "111/111 [==============================] - 7s 65ms/step - loss: 0.4278 - accuracy: 0.8372 - val_loss: 0.4167 - val_accuracy: 0.8368\n",
      "Epoch 6/50\n",
      "111/111 [==============================] - 7s 66ms/step - loss: 0.4054 - accuracy: 0.8464 - val_loss: 0.4327 - val_accuracy: 0.8242\n",
      "Epoch 7/50\n",
      "111/111 [==============================] - 7s 65ms/step - loss: 0.3851 - accuracy: 0.8577 - val_loss: 0.3798 - val_accuracy: 0.8558\n",
      "Epoch 8/50\n",
      "111/111 [==============================] - 6s 58ms/step - loss: 0.3532 - accuracy: 0.8669 - val_loss: 0.3619 - val_accuracy: 0.8684\n",
      "Epoch 9/50\n",
      "111/111 [==============================] - 6s 55ms/step - loss: 0.3396 - accuracy: 0.8744 - val_loss: 0.3493 - val_accuracy: 0.8705\n",
      "Epoch 10/50\n",
      "111/111 [==============================] - 5s 43ms/step - loss: 0.3180 - accuracy: 0.8852 - val_loss: 0.3422 - val_accuracy: 0.8674\n",
      "Epoch 11/50\n",
      "111/111 [==============================] - 6s 53ms/step - loss: 0.2963 - accuracy: 0.8941 - val_loss: 0.3501 - val_accuracy: 0.8663\n",
      "Epoch 12/50\n",
      "111/111 [==============================] - 6s 59ms/step - loss: 0.2944 - accuracy: 0.8932 - val_loss: 0.3264 - val_accuracy: 0.8737\n",
      "Epoch 13/50\n",
      "111/111 [==============================] - 6s 54ms/step - loss: 0.2725 - accuracy: 0.9046 - val_loss: 0.3454 - val_accuracy: 0.8716\n",
      "Epoch 14/50\n",
      "111/111 [==============================] - 6s 53ms/step - loss: 0.2530 - accuracy: 0.9106 - val_loss: 0.3410 - val_accuracy: 0.8779\n",
      "Epoch 15/50\n",
      "111/111 [==============================] - 6s 51ms/step - loss: 0.2431 - accuracy: 0.9115 - val_loss: 0.3103 - val_accuracy: 0.8842\n",
      "Epoch 16/50\n",
      "111/111 [==============================] - 6s 55ms/step - loss: 0.2222 - accuracy: 0.9262 - val_loss: 0.2808 - val_accuracy: 0.8916\n",
      "Epoch 17/50\n",
      "111/111 [==============================] - 6s 55ms/step - loss: 0.2189 - accuracy: 0.9228 - val_loss: 0.2828 - val_accuracy: 0.8916\n",
      "Epoch 18/50\n",
      "111/111 [==============================] - 8s 68ms/step - loss: 0.2214 - accuracy: 0.9224 - val_loss: 0.3461 - val_accuracy: 0.8737\n",
      "Epoch 19/50\n",
      "111/111 [==============================] - 7s 63ms/step - loss: 0.2054 - accuracy: 0.9271 - val_loss: 0.2679 - val_accuracy: 0.9063\n",
      "Epoch 20/50\n",
      "111/111 [==============================] - 7s 59ms/step - loss: 0.1872 - accuracy: 0.9378 - val_loss: 0.2810 - val_accuracy: 0.8947\n",
      "Epoch 21/50\n",
      "111/111 [==============================] - 6s 57ms/step - loss: 0.1906 - accuracy: 0.9353 - val_loss: 0.2628 - val_accuracy: 0.9158\n",
      "Epoch 22/50\n",
      "111/111 [==============================] - 7s 63ms/step - loss: 0.1726 - accuracy: 0.9418 - val_loss: 0.2726 - val_accuracy: 0.9095\n",
      "Epoch 23/50\n",
      "111/111 [==============================] - 7s 60ms/step - loss: 0.1621 - accuracy: 0.9469 - val_loss: 0.2863 - val_accuracy: 0.9074\n",
      "Epoch 24/50\n",
      "111/111 [==============================] - 8s 72ms/step - loss: 0.1599 - accuracy: 0.9462 - val_loss: 0.2737 - val_accuracy: 0.9063\n",
      "Epoch 25/50\n",
      "111/111 [==============================] - 6s 58ms/step - loss: 0.1480 - accuracy: 0.9540 - val_loss: 0.2798 - val_accuracy: 0.9074\n",
      "Epoch 26/50\n",
      "111/111 [==============================] - 6s 53ms/step - loss: 0.1339 - accuracy: 0.9583 - val_loss: 0.2579 - val_accuracy: 0.9179\n",
      "Epoch 27/50\n",
      "111/111 [==============================] - 7s 64ms/step - loss: 0.1256 - accuracy: 0.9625 - val_loss: 0.2803 - val_accuracy: 0.9000\n",
      "Epoch 28/50\n",
      "111/111 [==============================] - 7s 61ms/step - loss: 0.1408 - accuracy: 0.9545 - val_loss: 0.2899 - val_accuracy: 0.9158\n",
      "Epoch 29/50\n",
      "111/111 [==============================] - 6s 56ms/step - loss: 0.1314 - accuracy: 0.9569 - val_loss: 0.2804 - val_accuracy: 0.9011\n",
      "Epoch 30/50\n",
      "111/111 [==============================] - 6s 49ms/step - loss: 0.1352 - accuracy: 0.9552 - val_loss: 0.2835 - val_accuracy: 0.9042\n",
      "Epoch 31/50\n",
      "111/111 [==============================] - 6s 51ms/step - loss: 0.1227 - accuracy: 0.9563 - val_loss: 0.2538 - val_accuracy: 0.9147\n",
      "Epoch 32/50\n",
      "111/111 [==============================] - 6s 50ms/step - loss: 0.1095 - accuracy: 0.9628 - val_loss: 0.2883 - val_accuracy: 0.9147\n",
      "Epoch 33/50\n",
      "111/111 [==============================] - 6s 53ms/step - loss: 0.1071 - accuracy: 0.9632 - val_loss: 0.3054 - val_accuracy: 0.9095\n",
      "Epoch 34/50\n",
      "111/111 [==============================] - 6s 57ms/step - loss: 0.0931 - accuracy: 0.9704 - val_loss: 0.2761 - val_accuracy: 0.9189\n",
      "Epoch 35/50\n",
      "111/111 [==============================] - 7s 62ms/step - loss: 0.0870 - accuracy: 0.9712 - val_loss: 0.3069 - val_accuracy: 0.9168\n",
      "Epoch 36/50\n",
      "111/111 [==============================] - 6s 55ms/step - loss: 0.0985 - accuracy: 0.9692 - val_loss: 0.3175 - val_accuracy: 0.9032\n",
      "Epoch 37/50\n",
      "111/111 [==============================] - 6s 50ms/step - loss: 0.0913 - accuracy: 0.9708 - val_loss: 0.3129 - val_accuracy: 0.9116\n",
      "Epoch 38/50\n",
      "111/111 [==============================] - 6s 57ms/step - loss: 0.0879 - accuracy: 0.9703 - val_loss: 0.3463 - val_accuracy: 0.9021\n",
      "Epoch 39/50\n",
      "111/111 [==============================] - 6s 50ms/step - loss: 0.0887 - accuracy: 0.9721 - val_loss: 0.3221 - val_accuracy: 0.9168\n",
      "Epoch 40/50\n",
      "111/111 [==============================] - 5s 47ms/step - loss: 0.0731 - accuracy: 0.9779 - val_loss: 0.3066 - val_accuracy: 0.9168\n",
      "Epoch 41/50\n",
      "111/111 [==============================] - 6s 54ms/step - loss: 0.0664 - accuracy: 0.9781 - val_loss: 0.3449 - val_accuracy: 0.9074\n",
      "Epoch 42/50\n",
      "111/111 [==============================] - 7s 59ms/step - loss: 0.0862 - accuracy: 0.9719 - val_loss: 0.3271 - val_accuracy: 0.9137\n",
      "Epoch 43/50\n",
      "111/111 [==============================] - 7s 62ms/step - loss: 0.0922 - accuracy: 0.9666 - val_loss: 0.3340 - val_accuracy: 0.9147\n",
      "Epoch 44/50\n",
      "111/111 [==============================] - 7s 59ms/step - loss: 0.0592 - accuracy: 0.9819 - val_loss: 0.3257 - val_accuracy: 0.9137\n",
      "Epoch 45/50\n",
      "111/111 [==============================] - 6s 54ms/step - loss: 0.0914 - accuracy: 0.9695 - val_loss: 0.2980 - val_accuracy: 0.9189\n",
      "Epoch 46/50\n",
      "111/111 [==============================] - 6s 56ms/step - loss: 0.0541 - accuracy: 0.9821 - val_loss: 0.3625 - val_accuracy: 0.9116\n",
      "Epoch 47/50\n",
      "111/111 [==============================] - 6s 52ms/step - loss: 0.0680 - accuracy: 0.9782 - val_loss: 0.3348 - val_accuracy: 0.9179\n",
      "Epoch 48/50\n",
      "111/111 [==============================] - 6s 57ms/step - loss: 0.0537 - accuracy: 0.9817 - val_loss: 0.3468 - val_accuracy: 0.9179\n",
      "Epoch 49/50\n",
      "111/111 [==============================] - 6s 54ms/step - loss: 0.0511 - accuracy: 0.9839 - val_loss: 0.3741 - val_accuracy: 0.9253\n",
      "Epoch 50/50\n",
      "111/111 [==============================] - 6s 53ms/step - loss: 0.0578 - accuracy: 0.9790 - val_loss: 0.3877 - val_accuracy: 0.9137\n"
     ]
    }
   ],
   "source": [
    "history = model.fit(\n",
    "        trainData,\n",
    "        steps_per_epoch=trainData.n//trainData.batch_size,\n",
    "        validation_data = validData,\n",
    "        validation_steps =validData.n//validData.batch_size,\n",
    "        epochs=50 \n",
    "    \n",
    "        )\n",
    "model.save_weights('try1.h5')  # "
   ]
  },
  {
   "cell_type": "code",
   "execution_count": 10,
   "metadata": {},
   "outputs": [
    {
     "data": {
      "image/png": "[encoded data removed]",
      "text/plain": [
       "<Figure size 432x288 with 1 Axes>"
      ]
     },
     "metadata": {
      "needs_background": "light"
     },
     "output_type": "display_data"
    },
    {
     "data": {
      "image/png": "[encoded data removed]",
      "text/plain": [
       "<Figure size 432x288 with 1 Axes>"
      ]
     },
     "metadata": {
      "needs_background": "light"
     },
     "output_type": "display_data"
    }
   ],
   "source": [
    "# evaluate the model\n",
    "#_, train_acc = model.evaluate(Xtrain, ytrain, verbose=0)\n",
    "#_, test_acc = model.evaluate(Xtest, ytest, verbose=0)\n",
    "#print('Train: %.3f, Test: %.3f' % (train_acc, test_acc))\n",
    "# plot loss during training\n",
    "#plt.subplot(121)\n",
    "plt.title('Loss')\n",
    "plt.plot(history.history['loss'], label='train')\n",
    "plt.plot(history.history['val_loss'], label='Validation')\n",
    "plt.ylim(0.0, 1.1)\n",
    "plt.legend()\n",
    "plt.show()\n",
    "# plot accuracy during training\n",
    "#plt.subplot(211)\n",
    "plt.title('Accuracy')\n",
    "plt.plot(history.history['accuracy'], label='train')\n",
    "plt.plot(history.history['val_accuracy'], label='Validation')\n",
    "#plt.ylim(0.0, 1.1)\n",
    "plt.legend()\n",
    "plt.show()"
   ]
  },
  {
   "cell_type": "code",
   "execution_count": 11,
   "metadata": {},
   "outputs": [
    {
     "data": {
      "text/plain": [
       "{'mask_incorrectly_worn': 0, 'with_mask': 1, 'without_mask': 2}"
      ]
     },
     "execution_count": 11,
     "metadata": {},
     "output_type": "execute_result"
    }
   ],
   "source": [
    "#Get labels map\n",
    "label_map = (trainData.class_indices)\n",
    "label_map"
   ]
  },
  {
   "cell_type": "code",
   "execution_count": 12,
   "metadata": {},
   "outputs": [],
   "source": [
    "yhat_classes = model.predict(testData, verbose=0) #Gives prediction as propability\n",
    "ypred = np.argmax(yhat_classes,axis=1) #Get labels from brobability\n",
    "y_test_label = df_test['label'] #Read y_test\n",
    "#Replace label names in y_test with the same labeling used by the model \n",
    "y_test = np.empty(len(y_test_label))\n",
    "for k, v in label_map.items(): y_test[y_test_label==k] = v"
   ]
  },
  {
   "cell_type": "code",
   "execution_count": 13,
   "metadata": {},
   "outputs": [
    {
     "data": {
      "text/plain": [
       "0.904550499445061"
      ]
     },
     "execution_count": 13,
     "metadata": {},
     "output_type": "execute_result"
    }
   ],
   "source": [
    "from sklearn.metrics import accuracy_score\n",
    "accuracy_score(y_test, ypred)"
   ]
  },
  {
   "cell_type": "code",
   "execution_count": 14,
   "metadata": {},
   "outputs": [
    {
     "name": "stdout",
     "output_type": "stream",
     "text": [
      "                       precision    recall  f1-score   support\n",
      "\n",
      "mask_incorrectly_worn       0.25      0.50      0.34        30\n",
      "            with_mask       0.98      0.91      0.95       719\n",
      "         without_mask       0.82      0.94      0.88       152\n",
      "\n",
      "             accuracy                           0.90       901\n",
      "            macro avg       0.69      0.78      0.72       901\n",
      "         weighted avg       0.93      0.90      0.92       901\n",
      "\n"
     ]
    }
   ],
   "source": [
    "from sklearn.metrics import classification_report\n",
    "print(classification_report(y_test, ypred,target_names = label_map.keys() ))"
   ]
  },
  {
   "cell_type": "code",
   "execution_count": null,
   "metadata": {},
   "outputs": [],
   "source": []
  },
  {
   "cell_type": "code",
   "execution_count": 15,
   "metadata": {},
   "outputs": [
    {
     "name": "stdout",
     "output_type": "stream",
     "text": [
      "19/19 [==============================] - 1s 32ms/step - loss: 0.4369 - accuracy: 0.9046\n",
      "Test loss: 0.43688708543777466\n",
      "Test accuracy: 0.9045504927635193\n"
     ]
    }
   ],
   "source": [
    "score = model.evaluate(testData, verbose=1)\n",
    "print(\"Test loss:\", score[0])\n",
    "print(\"Test accuracy:\", score[1])"
   ]
  }
 ],
 "metadata": {
  "kernelspec": {
   "display_name": "Python 3",
   "language": "python",
   "name": "python3"
  },
  "language_info": {
   "codemirror_mode": {
    "name": "ipython",
    "version": 3
   },
   "file_extension": ".py",
   "mimetype": "text/x-python",
   "name": "python",
   "nbconvert_exporter": "python",
   "pygments_lexer": "ipython3",
   "version": "3.8.3"
  }
 },
 "nbformat": 4,
 "nbformat_minor": 4
}
